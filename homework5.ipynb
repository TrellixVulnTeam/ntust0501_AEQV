{
 "cells": [
  {
   "cell_type": "code",
   "execution_count": 14,
   "metadata": {},
   "outputs": [
    {
     "name": "stdout",
     "output_type": "stream",
     "text": [
      "請輸入第一個數字:6\n",
      "請輸入欲執行的運算式:(+,-,*,/)：/\n",
      "請輸入第二個數字:3\n",
      "2.0\n"
     ]
    }
   ],
   "source": [
    "def add(n1,n2):\n",
    "    print (n1+n2)\n",
    "def minus(n1,n2):\n",
    "    print (n1-n2)\n",
    "def multiply(n1,n2):\n",
    "    print (n1*n2)\n",
    "def divided(n1,n2):\n",
    "    print (n1/n2)\n",
    "\n",
    "    \n",
    "n1 = eval(input('請輸入第一個數字:'))\n",
    "x =  input('請輸入欲執行的運算式:(+,-,*,/)：')\n",
    "n2 = eval(input('請輸入第二個數字:'))\n",
    "if x == '+' :\n",
    "    add(n1,n2)\n",
    "elif x == '-':\n",
    "    minus(n1,n2)\n",
    "elif x == '*':\n",
    "    multiply(n1,n2)\n",
    "elif x == '/':\n",
    "    divided(n1,n2)\n",
    "else:\n",
    "    print('輸入錯誤!')"
   ]
  },
  {
   "cell_type": "code",
   "execution_count": null,
   "metadata": {},
   "outputs": [],
   "source": []
  }
 ],
 "metadata": {
  "kernelspec": {
   "display_name": "Python 3",
   "language": "python",
   "name": "python3"
  },
  "language_info": {
   "codemirror_mode": {
    "name": "ipython",
    "version": 3
   },
   "file_extension": ".py",
   "mimetype": "text/x-python",
   "name": "python",
   "nbconvert_exporter": "python",
   "pygments_lexer": "ipython3",
   "version": "3.7.3"
  }
 },
 "nbformat": 4,
 "nbformat_minor": 2
}
